{
 "cells": [
  {
   "cell_type": "markdown",
   "metadata": {},
   "source": [
    "2.2. Criando Tabelas"
   ]
  },
  {
   "cell_type": "code",
   "execution_count": 12,
   "metadata": {},
   "outputs": [
    {
     "name": "stdout",
     "output_type": "stream",
     "text": [
      "Conectou\n"
     ]
    }
   ],
   "source": [
    "\n",
    "import psycopg\n",
    "\n",
    "\n",
    "\n",
    "with psycopg.connect(\n",
    "    host=\"200.129.44.249\",\n",
    "    dbname=\"Gabriel_554226_ed1\",\n",
    "    user=\"554589\",\n",
    "    password=\"554589\"\n",
    "    ) as conn:\n",
    "    print(\"Conectou\")\n",
    "\n",
    "    CREATE_TABLES_SQL = \"\"\"\n",
    "\n",
    "        DROP TABLE IF EXISTS Curso CASCADE;\n",
    "        DROP TABLE IF EXISTS Aluno CASCADE;\n",
    "        DROP TABLE IF EXISTS Professor CASCADE;\n",
    "        DROP TABLE IF EXISTS Turma CASCADE;\n",
    "        DROP TABLE IF EXISTS Disciplina CASCADE;\n",
    "        DROP TABLE IF EXISTS Aluno_Turma CASCADE;\n",
    "\n",
    "\n",
    "        CREATE TABLE Curso (\n",
    "            id SERIAL,\n",
    "            nome VARCHAR(100) NOT NULL,\n",
    "            regime VARCHAR(20),\n",
    "            duracao INT,\n",
    "            PRIMARY KEY(id)\n",
    "        );\n",
    "\n",
    "        CREATE TABLE Aluno (\n",
    "            id SERIAL ,\n",
    "            nome VARCHAR(100) NOT NULL,\n",
    "            curso_id INT,\n",
    "            semestre INT,\n",
    "            PRIMARY KEY(id),\n",
    "            FOREIGN KEY (curso_id) REFERENCES Curso(id)\n",
    "        );\n",
    "\n",
    "        CREATE TABLE Professor (\n",
    "            id SERIAL,\n",
    "            nome VARCHAR(100),\n",
    "            area_especializacao VARCHAR(100),\n",
    "            contato VARCHAR(100),\n",
    "            curso_id INT,\n",
    "            PRIMARY KEY(id),\n",
    "            FOREIGN KEY (curso_id) REFERENCES Curso(id)\n",
    "        );\n",
    "\n",
    "        CREATE TABLE Disciplina (\n",
    "            id SERIAL ,\n",
    "            codigo VARCHAR(100) UNIQUE,\n",
    "            nome VARCHAR(100),\n",
    "            area_especializacao VARCHAR(100),\n",
    "            carga_horaria INT,\n",
    "            curso_id INT,\n",
    "            PRIMARY KEY(id),\n",
    "            FOREIGN KEY (curso_id) REFERENCES Curso(id)\n",
    "        );\n",
    "\n",
    "        CREATE TABLE Turma (\n",
    "            id SERIAL,\n",
    "            codigo VARCHAR(10) UNIQUE,\n",
    "            disciplina_id INT,\n",
    "            semestre VARCHAR(20),\n",
    "            capacidade_maxima INT,\n",
    "            estado VARCHAR(20),\n",
    "            prof_id INT,\n",
    "            PRIMARY KEY(id),\n",
    "            FOREIGN KEY (disciplina_id) REFERENCES Disciplina(id),\n",
    "            FOREIGN KEY (prof_id) REFERENCES Professor(id)\n",
    "        );\n",
    "            CREATE TABLE  Aluno_Turma (\n",
    "            aluno_id INT NOT NULL,\n",
    "            turma_id INT NOT NULL,\n",
    "            PRIMARY KEY (aluno_id, turma_id),\n",
    "            FOREIGN KEY (aluno_id) REFERENCES Aluno(id) ON DELETE CASCADE,\n",
    "            FOREIGN KEY (turma_id) REFERENCES Turma(id) ON DELETE CASCADE\n",
    "        );\n",
    "    \"\"\"\n",
    "    with conn.cursor() as cur:\n",
    "        cur.execute(CREATE_TABLES_SQL)\n",
    "    \n",
    "        conn.commit()\n",
    "\n",
    "\n",
    "\n",
    "\n"
   ]
  },
  {
   "cell_type": "markdown",
   "metadata": {},
   "source": [
    "2.6.2. Teste do Storage Procedure 2.6.1"
   ]
  },
  {
   "cell_type": "code",
   "execution_count": null,
   "metadata": {},
   "outputs": [],
   "source": [
    "\n",
    "import psycopg\n",
    "from psycopg import errors\n",
    "\n",
    "with psycopg.connect(\n",
    "    host=\"200.129.44.249\",\n",
    "    dbname=\"Gabriel_554226_ed1\",\n",
    "    user=\"554589\",\n",
    "    password=\"554589\",\n",
    ") as conn:\n",
    "    with conn.cursor() as cur:\n",
    "        try:\n",
    "            \n",
    "            cur.execute(\"CALL inc_semestre(%s)\", (1,))\n",
    "            conn.commit()  \n",
    "            print(\"Semestre incrementado com sucesso\")\n",
    "\n",
    "        except errors.Error as e:\n",
    "            conn.rollback()  \n",
    "            print(f\"Erro ao incrementar semestre: {e}\")"
   ]
  },
  {
   "cell_type": "markdown",
   "metadata": {},
   "source": [
    "2.7.3. Script de Teste do Trigger 2.7.1"
   ]
  },
  {
   "cell_type": "code",
   "execution_count": 14,
   "metadata": {},
   "outputs": [
    {
     "name": "stdout",
     "output_type": "stream",
     "text": [
      "Conectou\n",
      "Erro: Chave estrangeira inválida\n"
     ]
    },
    {
     "ename": "InFailedSqlTransaction",
     "evalue": "current transaction is aborted, commands ignored until end of transaction block",
     "output_type": "error",
     "traceback": [
      "\u001b[1;31m---------------------------------------------------------------------------\u001b[0m",
      "\u001b[1;31mInFailedSqlTransaction\u001b[0m                    Traceback (most recent call last)",
      "Cell \u001b[1;32mIn[14], line 20\u001b[0m\n\u001b[0;32m     18\u001b[0m \u001b[38;5;28;01mfor\u001b[39;00m aluno_id, turma_id \u001b[38;5;129;01min\u001b[39;00m Aluno_Turma:\n\u001b[0;32m     19\u001b[0m         \u001b[38;5;28;01mtry\u001b[39;00m:\n\u001b[1;32m---> 20\u001b[0m             \u001b[43mcur\u001b[49m\u001b[38;5;241;43m.\u001b[39;49m\u001b[43mexecute\u001b[49m\u001b[43m(\u001b[49m\n\u001b[0;32m     21\u001b[0m \u001b[43m                \u001b[49m\u001b[38;5;124;43m\"\u001b[39;49m\u001b[38;5;124;43mINSERT INTO Aluno_Turma (aluno_id, turma_id) VALUES (\u001b[39;49m\u001b[38;5;132;43;01m%s\u001b[39;49;00m\u001b[38;5;124;43m, \u001b[39;49m\u001b[38;5;132;43;01m%s\u001b[39;49;00m\u001b[38;5;124;43m)\u001b[39;49m\u001b[38;5;124;43m\"\u001b[39;49m\u001b[43m,\u001b[49m\n\u001b[0;32m     22\u001b[0m \u001b[43m                \u001b[49m\u001b[43m(\u001b[49m\u001b[43maluno_id\u001b[49m\u001b[43m,\u001b[49m\u001b[43m \u001b[49m\u001b[43mturma_id\u001b[49m\u001b[43m)\u001b[49m\n\u001b[0;32m     23\u001b[0m \u001b[43m            \u001b[49m\u001b[43m)\u001b[49m\n\u001b[0;32m     24\u001b[0m             \u001b[38;5;28mprint\u001b[39m(\u001b[38;5;124mf\u001b[39m\u001b[38;5;124m\"\u001b[39m\u001b[38;5;124mAluno \u001b[39m\u001b[38;5;132;01m{\u001b[39;00maluno_id\u001b[38;5;132;01m}\u001b[39;00m\u001b[38;5;124m matriculado na Turma \u001b[39m\u001b[38;5;132;01m{\u001b[39;00mturma_id\u001b[38;5;132;01m}\u001b[39;00m\u001b[38;5;124m com sucesso\u001b[39m\u001b[38;5;124m\"\u001b[39m)\n\u001b[0;32m     26\u001b[0m         \u001b[38;5;28;01mexcept\u001b[39;00m errors\u001b[38;5;241m.\u001b[39mUniqueViolation \u001b[38;5;28;01mas\u001b[39;00m e:\n",
      "File \u001b[1;32m~\\AppData\\Local\\Packages\\PythonSoftwareFoundation.Python.3.12_qbz5n2kfra8p0\\LocalCache\\local-packages\\Python312\\site-packages\\psycopg\\cursor.py:97\u001b[0m, in \u001b[0;36mCursor.execute\u001b[1;34m(self, query, params, prepare, binary)\u001b[0m\n\u001b[0;32m     93\u001b[0m         \u001b[38;5;28mself\u001b[39m\u001b[38;5;241m.\u001b[39m_conn\u001b[38;5;241m.\u001b[39mwait(\n\u001b[0;32m     94\u001b[0m             \u001b[38;5;28mself\u001b[39m\u001b[38;5;241m.\u001b[39m_execute_gen(query, params, prepare\u001b[38;5;241m=\u001b[39mprepare, binary\u001b[38;5;241m=\u001b[39mbinary)\n\u001b[0;32m     95\u001b[0m         )\n\u001b[0;32m     96\u001b[0m \u001b[38;5;28;01mexcept\u001b[39;00m e\u001b[38;5;241m.\u001b[39m_NO_TRACEBACK \u001b[38;5;28;01mas\u001b[39;00m ex:\n\u001b[1;32m---> 97\u001b[0m     \u001b[38;5;28;01mraise\u001b[39;00m ex\u001b[38;5;241m.\u001b[39mwith_traceback(\u001b[38;5;28;01mNone\u001b[39;00m)\n\u001b[0;32m     98\u001b[0m \u001b[38;5;28;01mreturn\u001b[39;00m \u001b[38;5;28mself\u001b[39m\n",
      "\u001b[1;31mInFailedSqlTransaction\u001b[0m: current transaction is aborted, commands ignored until end of transaction block"
     ]
    }
   ],
   "source": [
    "import psycopg\n",
    "from psycopg import errors\n",
    "\n",
    "\n",
    "Aluno_Turma=[(3,1),(5,1),(4,1)]\n",
    "\n",
    "with psycopg.connect(\n",
    "    host=\"200.129.44.249\",\n",
    "    dbname=\"Gabriel_554226_ed1\",\n",
    "    user=\"554589\",\n",
    "    password=\"554589\"\n",
    "    ) as conn:\n",
    "    print(\"Conectou\")\n",
    "\n",
    "    \n",
    "    with conn.cursor() as cur:\n",
    "        \n",
    "        for aluno_id, turma_id in Aluno_Turma:\n",
    "                try:\n",
    "                    cur.execute(\n",
    "                        \"INSERT INTO Aluno_Turma (aluno_id, turma_id) VALUES (%s, %s)\",\n",
    "                        (aluno_id, turma_id)\n",
    "                    )\n",
    "                    print(f\"Aluno {aluno_id} matriculado na Turma {turma_id} com sucesso\")\n",
    "\n",
    "                except errors.UniqueViolation as e:\n",
    "                    print(f\"Aluno já está matriculado na Turma\")\n",
    "\n",
    "                except errors.ForeignKeyViolation as e:\n",
    "                    print(f\"Aluno {aluno_id} ou Turma {turma_id} não existem\")\n",
    "                    \n",
    "        conn.commit()\n"
   ]
  },
  {
   "cell_type": "markdown",
   "metadata": {},
   "source": [
    "2.7.4. Teste do Trigger 2.7.2"
   ]
  },
  {
   "cell_type": "code",
   "execution_count": null,
   "metadata": {},
   "outputs": [],
   "source": [
    "import psycopg\n",
    "from psycopg import errors\n",
    "\n",
    "\n",
    "Aluno_Turma_2 = [(1, 2),(1, 3),(1, 4)]\n",
    "\n",
    "with psycopg.connect(\n",
    "    host=\"200.129.44.249\",\n",
    "    dbname=\"Gabriel_554226_ed1\",\n",
    "    user=\"554589\",\n",
    "    password=\"554589\",\n",
    ") as conn:\n",
    "    with conn.cursor() as cur:\n",
    "        print(\"Conectado ao banco de dados!\")\n",
    "\n",
    "        for aluno_id, turma_id in Aluno_Turma_2:\n",
    "            try:\n",
    "                cur.execute(\n",
    "                    \"INSERT INTO Aluno_Turma (aluno_id, turma_id) VALUES (%s, %s)\",\n",
    "                    (aluno_id, turma_id)\n",
    "                )\n",
    "                print(f\"Aluno {aluno_id} matriculado na Turma {turma_id} com sucesso\")\n",
    "\n",
    "            except errors.UniqueViolation:\n",
    "                print(f\"Aluno {aluno_id} já está na Turma {turma_id}, portanto não é possível matricular de novo\")\n",
    "\n",
    "            except errors.ForeignKeyViolation:\n",
    "                print(f\"Aluno {aluno_id} ou Turma {turma_id} não existem\")\n",
    "        conn.commit()\n",
    "            \n"
   ]
  },
  {
   "cell_type": "markdown",
   "metadata": {},
   "source": []
  }
 ],
 "metadata": {
  "kernelspec": {
   "display_name": "Python 3",
   "language": "python",
   "name": "python3"
  },
  "language_info": {
   "codemirror_mode": {
    "name": "ipython",
    "version": 3
   },
   "file_extension": ".py",
   "mimetype": "text/x-python",
   "name": "python",
   "nbconvert_exporter": "python",
   "pygments_lexer": "ipython3",
   "version": "3.12.8"
  }
 },
 "nbformat": 4,
 "nbformat_minor": 2
}
