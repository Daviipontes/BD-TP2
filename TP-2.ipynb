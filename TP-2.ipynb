{
 "cells": [
  {
   "cell_type": "markdown",
   "metadata": {},
   "source": [
    "2.2. Criando Tabelas"
   ]
  },
  {
   "cell_type": "code",
   "execution_count": 19,
   "metadata": {},
   "outputs": [
    {
     "name": "stdout",
     "output_type": "stream",
     "text": [
      "Conectou\n"
     ]
    }
   ],
   "source": [
    "\n",
    "import psycopg\n",
    "\n",
    "\n",
    "\n",
    "try:\n",
    "   with psycopg.connect(\n",
    "    host=\"200.129.44.249\",\n",
    "    dbname=\"Gabriel_554226_ed1\",\n",
    "    user=\"554589\",\n",
    "    password=\"554589\"\n",
    ") as conn:\n",
    "    print(\"Conectou\")\n",
    "\n",
    "    CREATE_TABLES_SQL = \"\"\"\n",
    "\n",
    "        DROP TABLE IF EXISTS Curso CASCADE;\n",
    "        DROP TABLE IF EXISTS Aluno CASCADE;\n",
    "        DROP TABLE IF EXISTS Professor CASCADE;\n",
    "        DROP TABLE IF EXISTS Turma CASCADE;\n",
    "        DROP TABLE IF EXISTS Disciplina CASCADE;\n",
    "        DROP TABLE IF EXISTS Aluno_Turma CASCADE;\n",
    "\n",
    "\n",
    "        CREATE TABLE Curso (\n",
    "            id SERIAL,\n",
    "            nome VARCHAR(100) NOT NULL,\n",
    "            regime VARCHAR(20),\n",
    "            duracao INT,\n",
    "            PRIMARY KEY(id)\n",
    "        );\n",
    "\n",
    "        CREATE TABLE Aluno (\n",
    "            id SERIAL ,\n",
    "            nome VARCHAR(100) NOT NULL,\n",
    "            curso_id INT,\n",
    "            semestre INT,\n",
    "            PRIMARY KEY(id),\n",
    "            FOREIGN KEY (curso_id) REFERENCES Curso(id)\n",
    "        );\n",
    "\n",
    "        CREATE TABLE Professor (\n",
    "            id SERIAL,\n",
    "            nome VARCHAR(100),\n",
    "            area_especializacao VARCHAR(100),\n",
    "            contato VARCHAR(100),\n",
    "            curso_id INT,\n",
    "            PRIMARY KEY(id),\n",
    "            FOREIGN KEY (curso_id) REFERENCES Curso(id)\n",
    "        );\n",
    "\n",
    "        CREATE TABLE Disciplina (\n",
    "            id SERIAL ,\n",
    "            codigo VARCHAR(100) UNIQUE,\n",
    "            nome VARCHAR(100),\n",
    "            area_especializacao VARCHAR(100),\n",
    "            carga_horaria INT,\n",
    "            curso_id INT,\n",
    "            PRIMARY KEY(id),\n",
    "            FOREIGN KEY (curso_id) REFERENCES Curso(id)\n",
    "        );\n",
    "\n",
    "        CREATE TABLE Turma (\n",
    "            id SERIAL,\n",
    "            codigo VARCHAR(10) UNIQUE,\n",
    "            disciplina_id INT,\n",
    "            semestre VARCHAR(20),\n",
    "            capacidade_maxima INT,\n",
    "            estado VARCHAR(20),\n",
    "            prof_id INT,\n",
    "            PRIMARY KEY(id),\n",
    "            FOREIGN KEY (disciplina_id) REFERENCES Disciplina(id),\n",
    "            FOREIGN KEY (prof_id) REFERENCES Professor(id)\n",
    "        );\n",
    "            CREATE TABLE  Aluno_Turma (\n",
    "            aluno_id INT NOT NULL,\n",
    "            turma_id INT NOT NULL,\n",
    "            PRIMARY KEY (aluno_id, turma_id),\n",
    "            FOREIGN KEY (aluno_id) REFERENCES Aluno(id) ON DELETE CASCADE,\n",
    "            FOREIGN KEY (turma_id) REFERENCES Turma(id) ON DELETE CASCADE\n",
    "        );\n",
    "    \"\"\"\n",
    "    with conn.cursor() as cur:\n",
    "                    cur.execute(CREATE_TABLES_SQL)\n",
    "\n",
    "except BaseException:\n",
    "    conn.rollback()\n",
    "\n",
    "finally:\n",
    "    conn.close()\n",
    "\n",
    "\n",
    "\n"
   ]
  },
  {
   "cell_type": "code",
   "execution_count": null,
   "metadata": {},
   "outputs": [],
   "source": [
    "2,4 "
   ]
  }
 ],
 "metadata": {
  "kernelspec": {
   "display_name": "Python 3",
   "language": "python",
   "name": "python3"
  },
  "language_info": {
   "codemirror_mode": {
    "name": "ipython",
    "version": 3
   },
   "file_extension": ".py",
   "mimetype": "text/x-python",
   "name": "python",
   "nbconvert_exporter": "python",
   "pygments_lexer": "ipython3",
   "version": "3.12.8"
  }
 },
 "nbformat": 4,
 "nbformat_minor": 2
}
